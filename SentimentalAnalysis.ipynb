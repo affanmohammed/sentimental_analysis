{
 "cells": [
  {
   "cell_type": "code",
   "execution_count": 1,
   "id": "be756be2",
   "metadata": {},
   "outputs": [
    {
     "data": {
      "text/plain": [
       "Negative      22808\n",
       "Positive      21109\n",
       "Neutral       18603\n",
       "Irrelevant    13162\n",
       "Name: sentiment, dtype: int64"
      ]
     },
     "execution_count": 1,
     "metadata": {},
     "output_type": "execute_result"
    }
   ],
   "source": [
    "import pandas as pd\n",
    "import re\n",
    "import nltk\n",
    "\n",
    "from sklearn.naive_bayes import MultinomialNB\n",
    "from sklearn.metrics import accuracy_score, classification_report\n",
    "from sklearn.model_selection import train_test_split\n",
    "\n",
    "from sklearn.feature_extraction.text import TfidfVectorizer\n",
    "from nltk.corpus import stopwords\n",
    "from nltk.stem import WordNetLemmatizer\n",
    "\n",
    "\n",
    "# Load datasets\n",
    "df = pd.read_csv('master_twitter_sentiment.csv')\n",
    "df.head()\n",
    "\n",
    "#before cleaning\n",
    "df[\"sentiment\"].value_counts()\n"
   ]
  },
  {
   "cell_type": "code",
   "execution_count": 2,
   "id": "8cc5c968",
   "metadata": {},
   "outputs": [
    {
     "data": {
      "text/plain": [
       "Negative    22624\n",
       "Positive    20932\n",
       "Neutral     18393\n",
       "Name: sentiment, dtype: int64"
      ]
     },
     "execution_count": 2,
     "metadata": {},
     "output_type": "execute_result"
    }
   ],
   "source": [
    "# Cleaning\n",
    "\n",
    "df = df[df['sentiment'] != 'Irrelevant']\n",
    "df = df.dropna()\n",
    "df.isnull().sum()\n",
    "\n",
    "\n",
    "def datacleaning(text):\n",
    "    cleaned_text = re.sub(r\"[^\\w\\s]|[\\d]\",\" \",text)\n",
    "    cleaned_text = re.sub(r\"[_]\",\" \",cleaned_text)\n",
    "    return cleaned_text\n",
    "\n",
    "df[\"text\"] = df[\"text\"].apply(datacleaning)\n",
    "\n",
    "#after cleaning\n",
    "df[\"sentiment\"].value_counts()"
   ]
  },
  {
   "cell_type": "code",
   "execution_count": 3,
   "id": "56b56950",
   "metadata": {},
   "outputs": [],
   "source": [
    "df[\"text\"] = df[\"text\"].str.lower()\n",
    "wordnet = WordNetLemmatizer()"
   ]
  },
  {
   "cell_type": "code",
   "execution_count": 6,
   "id": "858b8d75",
   "metadata": {},
   "outputs": [],
   "source": [
    "def dataprocessing(text):\n",
    "    \n",
    "    words = re.sub('[^ a-zA-Z]',' ', text)\n",
    "    words = nltk.word_tokenize(text)\n",
    "    words = [wordnet.lemmatize(word) for word in words if word not in set(stopwords.words('english')) ]\n",
    "    return \" \".join(words)\n",
    "\n",
    "df[\"text\"] = df[\"text\"].apply(dataprocessing)"
   ]
  },
  {
   "cell_type": "code",
   "execution_count": 5,
   "id": "f5dd72b6",
   "metadata": {},
   "outputs": [
    {
     "name": "stdout",
     "output_type": "stream",
     "text": [
      "Test Set Results:\n",
      "Accuracy: 0.7258272800645682\n",
      "Classification Report:\n",
      "               precision    recall  f1-score   support\n",
      "\n",
      "    Negative       0.71      0.82      0.76      4518\n",
      "     Neutral       0.75      0.57      0.65      3635\n",
      "    Positive       0.73      0.76      0.74      4237\n",
      "\n",
      "    accuracy                           0.73     12390\n",
      "   macro avg       0.73      0.72      0.72     12390\n",
      "weighted avg       0.73      0.73      0.72     12390\n",
      "\n"
     ]
    }
   ],
   "source": [
    "# Split the dataset into training and testing sets\n",
    "train_data, test_data, train_labels, test_labels = train_test_split(df['text'], df['sentiment'], test_size=0.2, random_state=42)\n",
    "\n",
    "\n",
    "# Convert text data to numerical features using TF-IDF vectorizer\n",
    "tfidf_vectorizer = TfidfVectorizer(max_features=5000)\n",
    "train_features = tfidf_vectorizer.fit_transform(train_data)\n",
    "test_features = tfidf_vectorizer.transform(test_data)\n",
    "\n",
    "\n",
    "# Train a Naive Bayes classifier\n",
    "classifier = MultinomialNB()\n",
    "classifier.fit(train_features, train_labels)\n",
    "\n",
    "# Make predictions on the test set\n",
    "test_predictions = classifier.predict(test_features)\n",
    "\n",
    "# Evaluate the model on the test set\n",
    "test_accuracy = accuracy_score(test_labels, test_predictions)\n",
    "test_report = classification_report(test_labels, test_predictions)\n",
    "\n",
    "print('Test Set Results:')\n",
    "print(f'Accuracy: {test_accuracy}')\n",
    "print('Classification Report:\\n', test_report)"
   ]
  },
  {
   "cell_type": "code",
   "execution_count": null,
   "id": "fa4e3079",
   "metadata": {},
   "outputs": [],
   "source": []
  },
  {
   "cell_type": "code",
   "execution_count": null,
   "id": "9fa87335",
   "metadata": {},
   "outputs": [],
   "source": []
  }
 ],
 "metadata": {
  "kernelspec": {
   "display_name": "Python 3 (ipykernel)",
   "language": "python",
   "name": "python3"
  },
  "language_info": {
   "codemirror_mode": {
    "name": "ipython",
    "version": 3
   },
   "file_extension": ".py",
   "mimetype": "text/x-python",
   "name": "python",
   "nbconvert_exporter": "python",
   "pygments_lexer": "ipython3",
   "version": "3.10.9"
  }
 },
 "nbformat": 4,
 "nbformat_minor": 5
}
